{
 "cells": [
  {
   "cell_type": "code",
   "execution_count": 1,
   "id": "5f7be56a",
   "metadata": {
    "_cell_guid": "b1076dfc-b9ad-4769-8c92-a6c4dae69d19",
    "_uuid": "8f2839f25d086af736a60e9eeb907d3b93b6e0e5",
    "execution": {
     "iopub.execute_input": "2022-02-28T14:17:39.627052Z",
     "iopub.status.busy": "2022-02-28T14:17:39.626493Z",
     "iopub.status.idle": "2022-02-28T14:17:39.632230Z",
     "shell.execute_reply": "2022-02-28T14:17:39.632820Z",
     "shell.execute_reply.started": "2022-02-28T14:06:18.833369Z"
    },
    "papermill": {
     "duration": 0.079793,
     "end_time": "2022-02-28T14:17:39.633093",
     "exception": false,
     "start_time": "2022-02-28T14:17:39.553300",
     "status": "completed"
    },
    "tags": []
   },
   "outputs": [
    {
     "name": "stdout",
     "output_type": "stream",
     "text": [
      "/kaggle/input/house-prices-advanced-regression-techniques/sample_submission.csv\n",
      "/kaggle/input/house-prices-advanced-regression-techniques/data_description.txt\n",
      "/kaggle/input/house-prices-advanced-regression-techniques/train.csv\n",
      "/kaggle/input/house-prices-advanced-regression-techniques/test.csv\n"
     ]
    }
   ],
   "source": [
    "# Input data files are available in the read-only \"../input/\" directory\n",
    "# For example, running this (by clicking run or pressing Shift+Enter) will list all files under the input directory\n",
    "\n",
    "import os\n",
    "for dirname, _, filenames in os.walk('/kaggle/input'):\n",
    "    for filename in filenames:\n",
    "        print(os.path.join(dirname, filename))\n",
    "\n",
    "# You can write up to 20GB to the current directory (/kaggle/working/) that gets preserved as output when you create a version using \"Save & Run All\" \n",
    "# You can also write temporary files to /kaggle/temp/, but they won't be saved outside of the current session"
   ]
  },
  {
   "cell_type": "code",
   "execution_count": 2,
   "id": "912aa74f",
   "metadata": {
    "execution": {
     "iopub.execute_input": "2022-02-28T14:17:39.707339Z",
     "iopub.status.busy": "2022-02-28T14:17:39.706673Z",
     "iopub.status.idle": "2022-02-28T14:17:42.857331Z",
     "shell.execute_reply": "2022-02-28T14:17:42.856815Z",
     "shell.execute_reply.started": "2022-02-28T14:06:18.845260Z"
    },
    "papermill": {
     "duration": 3.188508,
     "end_time": "2022-02-28T14:17:42.857472",
     "exception": false,
     "start_time": "2022-02-28T14:17:39.668964",
     "status": "completed"
    },
    "tags": []
   },
   "outputs": [],
   "source": [
    "import cudf as pd\n",
    "import cupy as np\n",
    "from sklearn.model_selection import cross_val_score\n",
    "import numpy"
   ]
  },
  {
   "cell_type": "markdown",
   "id": "2ceab385",
   "metadata": {
    "papermill": {
     "duration": 0.035173,
     "end_time": "2022-02-28T14:17:42.928967",
     "exception": false,
     "start_time": "2022-02-28T14:17:42.893794",
     "status": "completed"
    },
    "tags": []
   },
   "source": [
    "## Importing the data"
   ]
  },
  {
   "cell_type": "code",
   "execution_count": 3,
   "id": "486a4988",
   "metadata": {
    "execution": {
     "iopub.execute_input": "2022-02-28T14:17:43.002601Z",
     "iopub.status.busy": "2022-02-28T14:17:43.002030Z",
     "iopub.status.idle": "2022-02-28T14:17:45.366602Z",
     "shell.execute_reply": "2022-02-28T14:17:45.367037Z",
     "shell.execute_reply.started": "2022-02-28T14:06:18.854382Z"
    },
    "papermill": {
     "duration": 2.403735,
     "end_time": "2022-02-28T14:17:45.367196",
     "exception": false,
     "start_time": "2022-02-28T14:17:42.963461",
     "status": "completed"
    },
    "tags": []
   },
   "outputs": [
    {
     "data": {
      "text/html": [
       "<div>\n",
       "<style scoped>\n",
       "    .dataframe tbody tr th:only-of-type {\n",
       "        vertical-align: middle;\n",
       "    }\n",
       "\n",
       "    .dataframe tbody tr th {\n",
       "        vertical-align: top;\n",
       "    }\n",
       "\n",
       "    .dataframe thead th {\n",
       "        text-align: right;\n",
       "    }\n",
       "</style>\n",
       "<table border=\"1\" class=\"dataframe\">\n",
       "  <thead>\n",
       "    <tr style=\"text-align: right;\">\n",
       "      <th></th>\n",
       "      <th>Id</th>\n",
       "      <th>MSSubClass</th>\n",
       "      <th>MSZoning</th>\n",
       "      <th>LotFrontage</th>\n",
       "      <th>LotArea</th>\n",
       "      <th>Street</th>\n",
       "      <th>Alley</th>\n",
       "      <th>LotShape</th>\n",
       "      <th>LandContour</th>\n",
       "      <th>Utilities</th>\n",
       "      <th>...</th>\n",
       "      <th>PoolArea</th>\n",
       "      <th>PoolQC</th>\n",
       "      <th>Fence</th>\n",
       "      <th>MiscFeature</th>\n",
       "      <th>MiscVal</th>\n",
       "      <th>MoSold</th>\n",
       "      <th>YrSold</th>\n",
       "      <th>SaleType</th>\n",
       "      <th>SaleCondition</th>\n",
       "      <th>SalePrice</th>\n",
       "    </tr>\n",
       "  </thead>\n",
       "  <tbody>\n",
       "    <tr>\n",
       "      <th>0</th>\n",
       "      <td>1</td>\n",
       "      <td>60</td>\n",
       "      <td>RL</td>\n",
       "      <td>65.0</td>\n",
       "      <td>8450</td>\n",
       "      <td>Pave</td>\n",
       "      <td>&lt;NA&gt;</td>\n",
       "      <td>Reg</td>\n",
       "      <td>Lvl</td>\n",
       "      <td>AllPub</td>\n",
       "      <td>...</td>\n",
       "      <td>0</td>\n",
       "      <td>&lt;NA&gt;</td>\n",
       "      <td>&lt;NA&gt;</td>\n",
       "      <td>&lt;NA&gt;</td>\n",
       "      <td>0</td>\n",
       "      <td>2</td>\n",
       "      <td>2008</td>\n",
       "      <td>WD</td>\n",
       "      <td>Normal</td>\n",
       "      <td>208500</td>\n",
       "    </tr>\n",
       "    <tr>\n",
       "      <th>1</th>\n",
       "      <td>2</td>\n",
       "      <td>20</td>\n",
       "      <td>RL</td>\n",
       "      <td>80.0</td>\n",
       "      <td>9600</td>\n",
       "      <td>Pave</td>\n",
       "      <td>&lt;NA&gt;</td>\n",
       "      <td>Reg</td>\n",
       "      <td>Lvl</td>\n",
       "      <td>AllPub</td>\n",
       "      <td>...</td>\n",
       "      <td>0</td>\n",
       "      <td>&lt;NA&gt;</td>\n",
       "      <td>&lt;NA&gt;</td>\n",
       "      <td>&lt;NA&gt;</td>\n",
       "      <td>0</td>\n",
       "      <td>5</td>\n",
       "      <td>2007</td>\n",
       "      <td>WD</td>\n",
       "      <td>Normal</td>\n",
       "      <td>181500</td>\n",
       "    </tr>\n",
       "    <tr>\n",
       "      <th>2</th>\n",
       "      <td>3</td>\n",
       "      <td>60</td>\n",
       "      <td>RL</td>\n",
       "      <td>68.0</td>\n",
       "      <td>11250</td>\n",
       "      <td>Pave</td>\n",
       "      <td>&lt;NA&gt;</td>\n",
       "      <td>IR1</td>\n",
       "      <td>Lvl</td>\n",
       "      <td>AllPub</td>\n",
       "      <td>...</td>\n",
       "      <td>0</td>\n",
       "      <td>&lt;NA&gt;</td>\n",
       "      <td>&lt;NA&gt;</td>\n",
       "      <td>&lt;NA&gt;</td>\n",
       "      <td>0</td>\n",
       "      <td>9</td>\n",
       "      <td>2008</td>\n",
       "      <td>WD</td>\n",
       "      <td>Normal</td>\n",
       "      <td>223500</td>\n",
       "    </tr>\n",
       "    <tr>\n",
       "      <th>3</th>\n",
       "      <td>4</td>\n",
       "      <td>70</td>\n",
       "      <td>RL</td>\n",
       "      <td>60.0</td>\n",
       "      <td>9550</td>\n",
       "      <td>Pave</td>\n",
       "      <td>&lt;NA&gt;</td>\n",
       "      <td>IR1</td>\n",
       "      <td>Lvl</td>\n",
       "      <td>AllPub</td>\n",
       "      <td>...</td>\n",
       "      <td>0</td>\n",
       "      <td>&lt;NA&gt;</td>\n",
       "      <td>&lt;NA&gt;</td>\n",
       "      <td>&lt;NA&gt;</td>\n",
       "      <td>0</td>\n",
       "      <td>2</td>\n",
       "      <td>2006</td>\n",
       "      <td>WD</td>\n",
       "      <td>Abnorml</td>\n",
       "      <td>140000</td>\n",
       "    </tr>\n",
       "    <tr>\n",
       "      <th>4</th>\n",
       "      <td>5</td>\n",
       "      <td>60</td>\n",
       "      <td>RL</td>\n",
       "      <td>84.0</td>\n",
       "      <td>14260</td>\n",
       "      <td>Pave</td>\n",
       "      <td>&lt;NA&gt;</td>\n",
       "      <td>IR1</td>\n",
       "      <td>Lvl</td>\n",
       "      <td>AllPub</td>\n",
       "      <td>...</td>\n",
       "      <td>0</td>\n",
       "      <td>&lt;NA&gt;</td>\n",
       "      <td>&lt;NA&gt;</td>\n",
       "      <td>&lt;NA&gt;</td>\n",
       "      <td>0</td>\n",
       "      <td>12</td>\n",
       "      <td>2008</td>\n",
       "      <td>WD</td>\n",
       "      <td>Normal</td>\n",
       "      <td>250000</td>\n",
       "    </tr>\n",
       "  </tbody>\n",
       "</table>\n",
       "<p>5 rows × 81 columns</p>\n",
       "</div>"
      ],
      "text/plain": [
       "   Id  MSSubClass MSZoning  LotFrontage  LotArea Street Alley LotShape  \\\n",
       "0   1          60       RL         65.0     8450   Pave  <NA>      Reg   \n",
       "1   2          20       RL         80.0     9600   Pave  <NA>      Reg   \n",
       "2   3          60       RL         68.0    11250   Pave  <NA>      IR1   \n",
       "3   4          70       RL         60.0     9550   Pave  <NA>      IR1   \n",
       "4   5          60       RL         84.0    14260   Pave  <NA>      IR1   \n",
       "\n",
       "  LandContour Utilities  ... PoolArea  PoolQC Fence MiscFeature MiscVal  \\\n",
       "0         Lvl    AllPub  ...        0    <NA>  <NA>        <NA>       0   \n",
       "1         Lvl    AllPub  ...        0    <NA>  <NA>        <NA>       0   \n",
       "2         Lvl    AllPub  ...        0    <NA>  <NA>        <NA>       0   \n",
       "3         Lvl    AllPub  ...        0    <NA>  <NA>        <NA>       0   \n",
       "4         Lvl    AllPub  ...        0    <NA>  <NA>        <NA>       0   \n",
       "\n",
       "   MoSold  YrSold  SaleType SaleCondition SalePrice  \n",
       "0       2    2008        WD        Normal    208500  \n",
       "1       5    2007        WD        Normal    181500  \n",
       "2       9    2008        WD        Normal    223500  \n",
       "3       2    2006        WD       Abnorml    140000  \n",
       "4      12    2008        WD        Normal    250000  \n",
       "\n",
       "[5 rows x 81 columns]"
      ]
     },
     "execution_count": 3,
     "metadata": {},
     "output_type": "execute_result"
    }
   ],
   "source": [
    "train_df = pd.read_csv('/kaggle/input/house-prices-advanced-regression-techniques/train.csv')\n",
    "test_df = pd.read_csv('/kaggle/input/house-prices-advanced-regression-techniques/test.csv')\n",
    "train_df.head(5)"
   ]
  },
  {
   "cell_type": "code",
   "execution_count": 4,
   "id": "4c455007",
   "metadata": {
    "execution": {
     "iopub.execute_input": "2022-02-28T14:17:45.447574Z",
     "iopub.status.busy": "2022-02-28T14:17:45.446893Z",
     "iopub.status.idle": "2022-02-28T14:17:45.449635Z",
     "shell.execute_reply": "2022-02-28T14:17:45.450039Z",
     "shell.execute_reply.started": "2022-02-28T14:06:19.251832Z"
    },
    "papermill": {
     "duration": 0.044063,
     "end_time": "2022-02-28T14:17:45.450166",
     "exception": false,
     "start_time": "2022-02-28T14:17:45.406103",
     "status": "completed"
    },
    "tags": []
   },
   "outputs": [
    {
     "data": {
      "text/plain": [
       "81"
      ]
     },
     "execution_count": 4,
     "metadata": {},
     "output_type": "execute_result"
    }
   ],
   "source": [
    "len(train_df.columns)"
   ]
  },
  {
   "cell_type": "markdown",
   "id": "82c95282",
   "metadata": {
    "papermill": {
     "duration": 0.035757,
     "end_time": "2022-02-28T14:17:45.521543",
     "exception": false,
     "start_time": "2022-02-28T14:17:45.485786",
     "status": "completed"
    },
    "tags": []
   },
   "source": [
    "## Data Cleaning"
   ]
  },
  {
   "cell_type": "code",
   "execution_count": 5,
   "id": "f985d944",
   "metadata": {
    "execution": {
     "iopub.execute_input": "2022-02-28T14:17:45.597617Z",
     "iopub.status.busy": "2022-02-28T14:17:45.596995Z",
     "iopub.status.idle": "2022-02-28T14:17:45.599568Z",
     "shell.execute_reply": "2022-02-28T14:17:45.600027Z",
     "shell.execute_reply.started": "2022-02-28T14:06:19.260119Z"
    },
    "papermill": {
     "duration": 0.043138,
     "end_time": "2022-02-28T14:17:45.600148",
     "exception": false,
     "start_time": "2022-02-28T14:17:45.557010",
     "status": "completed"
    },
    "tags": []
   },
   "outputs": [
    {
     "data": {
      "text/plain": [
       "(1460, 81)"
      ]
     },
     "execution_count": 5,
     "metadata": {},
     "output_type": "execute_result"
    }
   ],
   "source": [
    "train_df.shape"
   ]
  },
  {
   "cell_type": "code",
   "execution_count": 6,
   "id": "11aa1d0e",
   "metadata": {
    "execution": {
     "iopub.execute_input": "2022-02-28T14:17:45.675420Z",
     "iopub.status.busy": "2022-02-28T14:17:45.674658Z",
     "iopub.status.idle": "2022-02-28T14:17:45.727034Z",
     "shell.execute_reply": "2022-02-28T14:17:45.727657Z",
     "shell.execute_reply.started": "2022-02-28T14:06:19.270868Z"
    },
    "papermill": {
     "duration": 0.090869,
     "end_time": "2022-02-28T14:17:45.727821",
     "exception": false,
     "start_time": "2022-02-28T14:17:45.636952",
     "status": "completed"
    },
    "tags": []
   },
   "outputs": [
    {
     "name": "stdout",
     "output_type": "stream",
     "text": [
      "<class 'cudf.core.dataframe.DataFrame'>\n",
      "RangeIndex: 1460 entries, 0 to 1459\n",
      "Data columns (total 81 columns):\n",
      " #   Column         Non-Null Count  Dtype\n",
      "---  ------         --------------  -----\n",
      " 0   Id             1460 non-null   int64\n",
      " 1   MSSubClass     1460 non-null   int64\n",
      " 2   MSZoning       1460 non-null   object\n",
      " 3   LotFrontage    1201 non-null   float64\n",
      " 4   LotArea        1460 non-null   int64\n",
      " 5   Street         1460 non-null   object\n",
      " 6   Alley          91 non-null     object\n",
      " 7   LotShape       1460 non-null   object\n",
      " 8   LandContour    1460 non-null   object\n",
      " 9   Utilities      1460 non-null   object\n",
      " 10  LotConfig      1460 non-null   object\n",
      " 11  LandSlope      1460 non-null   object\n",
      " 12  Neighborhood   1460 non-null   object\n",
      " 13  Condition1     1460 non-null   object\n",
      " 14  Condition2     1460 non-null   object\n",
      " 15  BldgType       1460 non-null   object\n",
      " 16  HouseStyle     1460 non-null   object\n",
      " 17  OverallQual    1460 non-null   int64\n",
      " 18  OverallCond    1460 non-null   int64\n",
      " 19  YearBuilt      1460 non-null   int64\n",
      " 20  YearRemodAdd   1460 non-null   int64\n",
      " 21  RoofStyle      1460 non-null   object\n",
      " 22  RoofMatl       1460 non-null   object\n",
      " 23  Exterior1st    1460 non-null   object\n",
      " 24  Exterior2nd    1460 non-null   object\n",
      " 25  MasVnrType     1452 non-null   object\n",
      " 26  MasVnrArea     1452 non-null   float64\n",
      " 27  ExterQual      1460 non-null   object\n",
      " 28  ExterCond      1460 non-null   object\n",
      " 29  Foundation     1460 non-null   object\n",
      " 30  BsmtQual       1423 non-null   object\n",
      " 31  BsmtCond       1423 non-null   object\n",
      " 32  BsmtExposure   1422 non-null   object\n",
      " 33  BsmtFinType1   1423 non-null   object\n",
      " 34  BsmtFinSF1     1460 non-null   int64\n",
      " 35  BsmtFinType2   1422 non-null   object\n",
      " 36  BsmtFinSF2     1460 non-null   int64\n",
      " 37  BsmtUnfSF      1460 non-null   int64\n",
      " 38  TotalBsmtSF    1460 non-null   int64\n",
      " 39  Heating        1460 non-null   object\n",
      " 40  HeatingQC      1460 non-null   object\n",
      " 41  CentralAir     1460 non-null   object\n",
      " 42  Electrical     1459 non-null   object\n",
      " 43  1stFlrSF       1460 non-null   int64\n",
      " 44  2ndFlrSF       1460 non-null   int64\n",
      " 45  LowQualFinSF   1460 non-null   int64\n",
      " 46  GrLivArea      1460 non-null   int64\n",
      " 47  BsmtFullBath   1460 non-null   int64\n",
      " 48  BsmtHalfBath   1460 non-null   int64\n",
      " 49  FullBath       1460 non-null   int64\n",
      " 50  HalfBath       1460 non-null   int64\n",
      " 51  BedroomAbvGr   1460 non-null   int64\n",
      " 52  KitchenAbvGr   1460 non-null   int64\n",
      " 53  KitchenQual    1460 non-null   object\n",
      " 54  TotRmsAbvGrd   1460 non-null   int64\n",
      " 55  Functional     1460 non-null   object\n",
      " 56  Fireplaces     1460 non-null   int64\n",
      " 57  FireplaceQu    770 non-null    object\n",
      " 58  GarageType     1379 non-null   object\n",
      " 59  GarageYrBlt    1379 non-null   float64\n",
      " 60  GarageFinish   1379 non-null   object\n",
      " 61  GarageCars     1460 non-null   int64\n",
      " 62  GarageArea     1460 non-null   int64\n",
      " 63  GarageQual     1379 non-null   object\n",
      " 64  GarageCond     1379 non-null   object\n",
      " 65  PavedDrive     1460 non-null   object\n",
      " 66  WoodDeckSF     1460 non-null   int64\n",
      " 67  OpenPorchSF    1460 non-null   int64\n",
      " 68  EnclosedPorch  1460 non-null   int64\n",
      " 69  3SsnPorch      1460 non-null   int64\n",
      " 70  ScreenPorch    1460 non-null   int64\n",
      " 71  PoolArea       1460 non-null   int64\n",
      " 72  PoolQC         7 non-null      object\n",
      " 73  Fence          281 non-null    object\n",
      " 74  MiscFeature    54 non-null     object\n",
      " 75  MiscVal        1460 non-null   int64\n",
      " 76  MoSold         1460 non-null   int64\n",
      " 77  YrSold         1460 non-null   int64\n",
      " 78  SaleType       1460 non-null   object\n",
      " 79  SaleCondition  1460 non-null   object\n",
      " 80  SalePrice      1460 non-null   int64\n",
      "dtypes: float64(3), int64(35), object(43)\n",
      "memory usage: 888.7+ KB\n"
     ]
    }
   ],
   "source": [
    "train_df.info()"
   ]
  },
  {
   "cell_type": "markdown",
   "id": "56b18bd6",
   "metadata": {
    "papermill": {
     "duration": 0.035639,
     "end_time": "2022-02-28T14:17:45.800345",
     "exception": false,
     "start_time": "2022-02-28T14:17:45.764706",
     "status": "completed"
    },
    "tags": []
   },
   "source": [
    "## Filling Missing Values"
   ]
  },
  {
   "cell_type": "code",
   "execution_count": 7,
   "id": "19a5ee70",
   "metadata": {
    "execution": {
     "iopub.execute_input": "2022-02-28T14:17:45.879032Z",
     "iopub.status.busy": "2022-02-28T14:17:45.878283Z",
     "iopub.status.idle": "2022-02-28T14:17:45.895009Z",
     "shell.execute_reply": "2022-02-28T14:17:45.894564Z",
     "shell.execute_reply.started": "2022-02-28T14:06:19.364364Z"
    },
    "papermill": {
     "duration": 0.058015,
     "end_time": "2022-02-28T14:17:45.895125",
     "exception": false,
     "start_time": "2022-02-28T14:17:45.837110",
     "status": "completed"
    },
    "tags": []
   },
   "outputs": [],
   "source": [
    "train_df['MasVnrArea'].fillna(train_df['MasVnrArea'].median(), inplace=True)\n",
    "train_df['BsmtFinType1'].fillna('Unknown', inplace=True)\n",
    "train_df['BsmtFinType2'].fillna('Unknown', inplace=True)"
   ]
  },
  {
   "cell_type": "code",
   "execution_count": 8,
   "id": "4b0b33dd",
   "metadata": {
    "execution": {
     "iopub.execute_input": "2022-02-28T14:17:45.972330Z",
     "iopub.status.busy": "2022-02-28T14:17:45.971572Z",
     "iopub.status.idle": "2022-02-28T14:17:46.008812Z",
     "shell.execute_reply": "2022-02-28T14:17:46.009254Z",
     "shell.execute_reply.started": "2022-02-28T14:06:19.384248Z"
    },
    "papermill": {
     "duration": 0.078154,
     "end_time": "2022-02-28T14:17:46.009391",
     "exception": false,
     "start_time": "2022-02-28T14:17:45.931237",
     "status": "completed"
    },
    "tags": []
   },
   "outputs": [
    {
     "name": "stdout",
     "output_type": "stream",
     "text": [
      "<class 'cudf.core.dataframe.DataFrame'>\n",
      "RangeIndex: 1460 entries, 0 to 1459\n",
      "Data columns (total 81 columns):\n",
      " #   Column         Non-Null Count  Dtype\n",
      "---  ------         --------------  -----\n",
      " 0   Id             1460 non-null   int64\n",
      " 1   MSSubClass     1460 non-null   int64\n",
      " 2   MSZoning       1460 non-null   object\n",
      " 3   LotFrontage    1201 non-null   float64\n",
      " 4   LotArea        1460 non-null   int64\n",
      " 5   Street         1460 non-null   object\n",
      " 6   Alley          91 non-null     object\n",
      " 7   LotShape       1460 non-null   object\n",
      " 8   LandContour    1460 non-null   object\n",
      " 9   Utilities      1460 non-null   object\n",
      " 10  LotConfig      1460 non-null   object\n",
      " 11  LandSlope      1460 non-null   object\n",
      " 12  Neighborhood   1460 non-null   object\n",
      " 13  Condition1     1460 non-null   object\n",
      " 14  Condition2     1460 non-null   object\n",
      " 15  BldgType       1460 non-null   object\n",
      " 16  HouseStyle     1460 non-null   object\n",
      " 17  OverallQual    1460 non-null   int64\n",
      " 18  OverallCond    1460 non-null   int64\n",
      " 19  YearBuilt      1460 non-null   int64\n",
      " 20  YearRemodAdd   1460 non-null   int64\n",
      " 21  RoofStyle      1460 non-null   object\n",
      " 22  RoofMatl       1460 non-null   object\n",
      " 23  Exterior1st    1460 non-null   object\n",
      " 24  Exterior2nd    1460 non-null   object\n",
      " 25  MasVnrType     1452 non-null   object\n",
      " 26  MasVnrArea     1460 non-null   float64\n",
      " 27  ExterQual      1460 non-null   object\n",
      " 28  ExterCond      1460 non-null   object\n",
      " 29  Foundation     1460 non-null   object\n",
      " 30  BsmtQual       1423 non-null   object\n",
      " 31  BsmtCond       1423 non-null   object\n",
      " 32  BsmtExposure   1422 non-null   object\n",
      " 33  BsmtFinType1   1460 non-null   object\n",
      " 34  BsmtFinSF1     1460 non-null   int64\n",
      " 35  BsmtFinType2   1460 non-null   object\n",
      " 36  BsmtFinSF2     1460 non-null   int64\n",
      " 37  BsmtUnfSF      1460 non-null   int64\n",
      " 38  TotalBsmtSF    1460 non-null   int64\n",
      " 39  Heating        1460 non-null   object\n",
      " 40  HeatingQC      1460 non-null   object\n",
      " 41  CentralAir     1460 non-null   object\n",
      " 42  Electrical     1459 non-null   object\n",
      " 43  1stFlrSF       1460 non-null   int64\n",
      " 44  2ndFlrSF       1460 non-null   int64\n",
      " 45  LowQualFinSF   1460 non-null   int64\n",
      " 46  GrLivArea      1460 non-null   int64\n",
      " 47  BsmtFullBath   1460 non-null   int64\n",
      " 48  BsmtHalfBath   1460 non-null   int64\n",
      " 49  FullBath       1460 non-null   int64\n",
      " 50  HalfBath       1460 non-null   int64\n",
      " 51  BedroomAbvGr   1460 non-null   int64\n",
      " 52  KitchenAbvGr   1460 non-null   int64\n",
      " 53  KitchenQual    1460 non-null   object\n",
      " 54  TotRmsAbvGrd   1460 non-null   int64\n",
      " 55  Functional     1460 non-null   object\n",
      " 56  Fireplaces     1460 non-null   int64\n",
      " 57  FireplaceQu    770 non-null    object\n",
      " 58  GarageType     1379 non-null   object\n",
      " 59  GarageYrBlt    1379 non-null   float64\n",
      " 60  GarageFinish   1379 non-null   object\n",
      " 61  GarageCars     1460 non-null   int64\n",
      " 62  GarageArea     1460 non-null   int64\n",
      " 63  GarageQual     1379 non-null   object\n",
      " 64  GarageCond     1379 non-null   object\n",
      " 65  PavedDrive     1460 non-null   object\n",
      " 66  WoodDeckSF     1460 non-null   int64\n",
      " 67  OpenPorchSF    1460 non-null   int64\n",
      " 68  EnclosedPorch  1460 non-null   int64\n",
      " 69  3SsnPorch      1460 non-null   int64\n",
      " 70  ScreenPorch    1460 non-null   int64\n",
      " 71  PoolArea       1460 non-null   int64\n",
      " 72  PoolQC         7 non-null      object\n",
      " 73  Fence          281 non-null    object\n",
      " 74  MiscFeature    54 non-null     object\n",
      " 75  MiscVal        1460 non-null   int64\n",
      " 76  MoSold         1460 non-null   int64\n",
      " 77  YrSold         1460 non-null   int64\n",
      " 78  SaleType       1460 non-null   object\n",
      " 79  SaleCondition  1460 non-null   object\n",
      " 80  SalePrice      1460 non-null   int64\n",
      "dtypes: float64(3), int64(35), object(43)\n",
      "memory usage: 888.5+ KB\n"
     ]
    }
   ],
   "source": [
    "train_df.info()"
   ]
  },
  {
   "cell_type": "code",
   "execution_count": 9,
   "id": "22fa503f",
   "metadata": {
    "execution": {
     "iopub.execute_input": "2022-02-28T14:17:46.088096Z",
     "iopub.status.busy": "2022-02-28T14:17:46.087446Z",
     "iopub.status.idle": "2022-02-28T14:17:46.090098Z",
     "shell.execute_reply": "2022-02-28T14:17:46.090507Z",
     "shell.execute_reply.started": "2022-02-28T14:06:19.456031Z"
    },
    "papermill": {
     "duration": 0.0441,
     "end_time": "2022-02-28T14:17:46.090645",
     "exception": false,
     "start_time": "2022-02-28T14:17:46.046545",
     "status": "completed"
    },
    "tags": []
   },
   "outputs": [
    {
     "data": {
      "text/plain": [
       "(1459, 80)"
      ]
     },
     "execution_count": 9,
     "metadata": {},
     "output_type": "execute_result"
    }
   ],
   "source": [
    "test_df.shape"
   ]
  },
  {
   "cell_type": "code",
   "execution_count": 10,
   "id": "b3d2f85c",
   "metadata": {
    "execution": {
     "iopub.execute_input": "2022-02-28T14:17:46.175368Z",
     "iopub.status.busy": "2022-02-28T14:17:46.172356Z",
     "iopub.status.idle": "2022-02-28T14:17:46.223593Z",
     "shell.execute_reply": "2022-02-28T14:17:46.224202Z",
     "shell.execute_reply.started": "2022-02-28T14:06:19.463771Z"
    },
    "papermill": {
     "duration": 0.096637,
     "end_time": "2022-02-28T14:17:46.224379",
     "exception": false,
     "start_time": "2022-02-28T14:17:46.127742",
     "status": "completed"
    },
    "tags": []
   },
   "outputs": [
    {
     "name": "stdout",
     "output_type": "stream",
     "text": [
      "<class 'cudf.core.dataframe.DataFrame'>\n",
      "RangeIndex: 1459 entries, 0 to 1458\n",
      "Data columns (total 80 columns):\n",
      " #   Column         Non-Null Count  Dtype\n",
      "---  ------         --------------  -----\n",
      " 0   Id             1459 non-null   int64\n",
      " 1   MSSubClass     1459 non-null   int64\n",
      " 2   MSZoning       1455 non-null   object\n",
      " 3   LotFrontage    1232 non-null   float64\n",
      " 4   LotArea        1459 non-null   int64\n",
      " 5   Street         1459 non-null   object\n",
      " 6   Alley          107 non-null    object\n",
      " 7   LotShape       1459 non-null   object\n",
      " 8   LandContour    1459 non-null   object\n",
      " 9   Utilities      1457 non-null   object\n",
      " 10  LotConfig      1459 non-null   object\n",
      " 11  LandSlope      1459 non-null   object\n",
      " 12  Neighborhood   1459 non-null   object\n",
      " 13  Condition1     1459 non-null   object\n",
      " 14  Condition2     1459 non-null   object\n",
      " 15  BldgType       1459 non-null   object\n",
      " 16  HouseStyle     1459 non-null   object\n",
      " 17  OverallQual    1459 non-null   int64\n",
      " 18  OverallCond    1459 non-null   int64\n",
      " 19  YearBuilt      1459 non-null   int64\n",
      " 20  YearRemodAdd   1459 non-null   int64\n",
      " 21  RoofStyle      1459 non-null   object\n",
      " 22  RoofMatl       1459 non-null   object\n",
      " 23  Exterior1st    1458 non-null   object\n",
      " 24  Exterior2nd    1458 non-null   object\n",
      " 25  MasVnrType     1443 non-null   object\n",
      " 26  MasVnrArea     1444 non-null   float64\n",
      " 27  ExterQual      1459 non-null   object\n",
      " 28  ExterCond      1459 non-null   object\n",
      " 29  Foundation     1459 non-null   object\n",
      " 30  BsmtQual       1415 non-null   object\n",
      " 31  BsmtCond       1414 non-null   object\n",
      " 32  BsmtExposure   1415 non-null   object\n",
      " 33  BsmtFinType1   1417 non-null   object\n",
      " 34  BsmtFinSF1     1458 non-null   float64\n",
      " 35  BsmtFinType2   1417 non-null   object\n",
      " 36  BsmtFinSF2     1458 non-null   float64\n",
      " 37  BsmtUnfSF      1458 non-null   float64\n",
      " 38  TotalBsmtSF    1458 non-null   float64\n",
      " 39  Heating        1459 non-null   object\n",
      " 40  HeatingQC      1459 non-null   object\n",
      " 41  CentralAir     1459 non-null   object\n",
      " 42  Electrical     1459 non-null   object\n",
      " 43  1stFlrSF       1459 non-null   int64\n",
      " 44  2ndFlrSF       1459 non-null   int64\n",
      " 45  LowQualFinSF   1459 non-null   int64\n",
      " 46  GrLivArea      1459 non-null   int64\n",
      " 47  BsmtFullBath   1457 non-null   float64\n",
      " 48  BsmtHalfBath   1457 non-null   float64\n",
      " 49  FullBath       1459 non-null   int64\n",
      " 50  HalfBath       1459 non-null   int64\n",
      " 51  BedroomAbvGr   1459 non-null   int64\n",
      " 52  KitchenAbvGr   1459 non-null   int64\n",
      " 53  KitchenQual    1458 non-null   object\n",
      " 54  TotRmsAbvGrd   1459 non-null   int64\n",
      " 55  Functional     1457 non-null   object\n",
      " 56  Fireplaces     1459 non-null   int64\n",
      " 57  FireplaceQu    729 non-null    object\n",
      " 58  GarageType     1383 non-null   object\n",
      " 59  GarageYrBlt    1381 non-null   float64\n",
      " 60  GarageFinish   1381 non-null   object\n",
      " 61  GarageCars     1458 non-null   float64\n",
      " 62  GarageArea     1458 non-null   float64\n",
      " 63  GarageQual     1381 non-null   object\n",
      " 64  GarageCond     1381 non-null   object\n",
      " 65  PavedDrive     1459 non-null   object\n",
      " 66  WoodDeckSF     1459 non-null   int64\n",
      " 67  OpenPorchSF    1459 non-null   int64\n",
      " 68  EnclosedPorch  1459 non-null   int64\n",
      " 69  3SsnPorch      1459 non-null   int64\n",
      " 70  ScreenPorch    1459 non-null   int64\n",
      " 71  PoolArea       1459 non-null   int64\n",
      " 72  PoolQC         3 non-null      object\n",
      " 73  Fence          290 non-null    object\n",
      " 74  MiscFeature    51 non-null     object\n",
      " 75  MiscVal        1459 non-null   int64\n",
      " 76  MoSold         1459 non-null   int64\n",
      " 77  YrSold         1459 non-null   int64\n",
      " 78  SaleType       1458 non-null   object\n",
      " 79  SaleCondition  1459 non-null   object\n",
      "dtypes: float64(11), int64(26), object(43)\n",
      "memory usage: 879.4+ KB\n"
     ]
    }
   ],
   "source": [
    "test_df.info()"
   ]
  },
  {
   "cell_type": "code",
   "execution_count": 11,
   "id": "973c1acb",
   "metadata": {
    "execution": {
     "iopub.execute_input": "2022-02-28T14:17:46.308018Z",
     "iopub.status.busy": "2022-02-28T14:17:46.307214Z",
     "iopub.status.idle": "2022-02-28T14:17:46.325250Z",
     "shell.execute_reply": "2022-02-28T14:17:46.324826Z",
     "shell.execute_reply.started": "2022-02-28T14:06:19.549183Z"
    },
    "papermill": {
     "duration": 0.060127,
     "end_time": "2022-02-28T14:17:46.325367",
     "exception": false,
     "start_time": "2022-02-28T14:17:46.265240",
     "status": "completed"
    },
    "tags": []
   },
   "outputs": [],
   "source": [
    "test_df['MasVnrArea'].fillna(test_df['MasVnrArea'].median(), inplace=True)\n",
    "test_df['BsmtFinType1'].fillna('Unknown', inplace=True)\n",
    "test_df['BsmtFinSF1'].fillna(test_df['BsmtFinSF1'].median(), inplace=True)\n",
    "test_df['BsmtFinType2'].fillna('Unknown', inplace=True)\n",
    "test_df['BsmtFinSF2'].fillna(test_df['BsmtFinSF2'].median(), inplace=True)\n",
    "test_df['TotalBsmtSF'].fillna(test_df['TotalBsmtSF'].median(), inplace=True)\n",
    "test_df['GarageArea'].fillna(test_df['GarageArea'].median(), inplace = True)"
   ]
  },
  {
   "cell_type": "code",
   "execution_count": 12,
   "id": "137045be",
   "metadata": {
    "execution": {
     "iopub.execute_input": "2022-02-28T14:17:46.411295Z",
     "iopub.status.busy": "2022-02-28T14:17:46.409187Z",
     "iopub.status.idle": "2022-02-28T14:17:46.449156Z",
     "shell.execute_reply": "2022-02-28T14:17:46.450010Z",
     "shell.execute_reply.started": "2022-02-28T14:06:19.581622Z"
    },
    "papermill": {
     "duration": 0.084888,
     "end_time": "2022-02-28T14:17:46.450176",
     "exception": false,
     "start_time": "2022-02-28T14:17:46.365288",
     "status": "completed"
    },
    "tags": []
   },
   "outputs": [
    {
     "name": "stdout",
     "output_type": "stream",
     "text": [
      "<class 'cudf.core.dataframe.DataFrame'>\n",
      "RangeIndex: 1459 entries, 0 to 1458\n",
      "Data columns (total 80 columns):\n",
      " #   Column         Non-Null Count  Dtype\n",
      "---  ------         --------------  -----\n",
      " 0   Id             1459 non-null   int64\n",
      " 1   MSSubClass     1459 non-null   int64\n",
      " 2   MSZoning       1455 non-null   object\n",
      " 3   LotFrontage    1232 non-null   float64\n",
      " 4   LotArea        1459 non-null   int64\n",
      " 5   Street         1459 non-null   object\n",
      " 6   Alley          107 non-null    object\n",
      " 7   LotShape       1459 non-null   object\n",
      " 8   LandContour    1459 non-null   object\n",
      " 9   Utilities      1457 non-null   object\n",
      " 10  LotConfig      1459 non-null   object\n",
      " 11  LandSlope      1459 non-null   object\n",
      " 12  Neighborhood   1459 non-null   object\n",
      " 13  Condition1     1459 non-null   object\n",
      " 14  Condition2     1459 non-null   object\n",
      " 15  BldgType       1459 non-null   object\n",
      " 16  HouseStyle     1459 non-null   object\n",
      " 17  OverallQual    1459 non-null   int64\n",
      " 18  OverallCond    1459 non-null   int64\n",
      " 19  YearBuilt      1459 non-null   int64\n",
      " 20  YearRemodAdd   1459 non-null   int64\n",
      " 21  RoofStyle      1459 non-null   object\n",
      " 22  RoofMatl       1459 non-null   object\n",
      " 23  Exterior1st    1458 non-null   object\n",
      " 24  Exterior2nd    1458 non-null   object\n",
      " 25  MasVnrType     1443 non-null   object\n",
      " 26  MasVnrArea     1459 non-null   float64\n",
      " 27  ExterQual      1459 non-null   object\n",
      " 28  ExterCond      1459 non-null   object\n",
      " 29  Foundation     1459 non-null   object\n",
      " 30  BsmtQual       1415 non-null   object\n",
      " 31  BsmtCond       1414 non-null   object\n",
      " 32  BsmtExposure   1415 non-null   object\n",
      " 33  BsmtFinType1   1459 non-null   object\n",
      " 34  BsmtFinSF1     1459 non-null   float64\n",
      " 35  BsmtFinType2   1459 non-null   object\n",
      " 36  BsmtFinSF2     1459 non-null   float64\n",
      " 37  BsmtUnfSF      1458 non-null   float64\n",
      " 38  TotalBsmtSF    1459 non-null   float64\n",
      " 39  Heating        1459 non-null   object\n",
      " 40  HeatingQC      1459 non-null   object\n",
      " 41  CentralAir     1459 non-null   object\n",
      " 42  Electrical     1459 non-null   object\n",
      " 43  1stFlrSF       1459 non-null   int64\n",
      " 44  2ndFlrSF       1459 non-null   int64\n",
      " 45  LowQualFinSF   1459 non-null   int64\n",
      " 46  GrLivArea      1459 non-null   int64\n",
      " 47  BsmtFullBath   1457 non-null   float64\n",
      " 48  BsmtHalfBath   1457 non-null   float64\n",
      " 49  FullBath       1459 non-null   int64\n",
      " 50  HalfBath       1459 non-null   int64\n",
      " 51  BedroomAbvGr   1459 non-null   int64\n",
      " 52  KitchenAbvGr   1459 non-null   int64\n",
      " 53  KitchenQual    1458 non-null   object\n",
      " 54  TotRmsAbvGrd   1459 non-null   int64\n",
      " 55  Functional     1457 non-null   object\n",
      " 56  Fireplaces     1459 non-null   int64\n",
      " 57  FireplaceQu    729 non-null    object\n",
      " 58  GarageType     1383 non-null   object\n",
      " 59  GarageYrBlt    1381 non-null   float64\n",
      " 60  GarageFinish   1381 non-null   object\n",
      " 61  GarageCars     1458 non-null   float64\n",
      " 62  GarageArea     1459 non-null   float64\n",
      " 63  GarageQual     1381 non-null   object\n",
      " 64  GarageCond     1381 non-null   object\n",
      " 65  PavedDrive     1459 non-null   object\n",
      " 66  WoodDeckSF     1459 non-null   int64\n",
      " 67  OpenPorchSF    1459 non-null   int64\n",
      " 68  EnclosedPorch  1459 non-null   int64\n",
      " 69  3SsnPorch      1459 non-null   int64\n",
      " 70  ScreenPorch    1459 non-null   int64\n",
      " 71  PoolArea       1459 non-null   int64\n",
      " 72  PoolQC         3 non-null      object\n",
      " 73  Fence          290 non-null    object\n",
      " 74  MiscFeature    51 non-null     object\n",
      " 75  MiscVal        1459 non-null   int64\n",
      " 76  MoSold         1459 non-null   int64\n",
      " 77  YrSold         1459 non-null   int64\n",
      " 78  SaleType       1458 non-null   object\n",
      " 79  SaleCondition  1459 non-null   object\n",
      "dtypes: float64(11), int64(26), object(43)\n",
      "memory usage: 878.4+ KB\n"
     ]
    }
   ],
   "source": [
    "test_df.info()"
   ]
  },
  {
   "cell_type": "code",
   "execution_count": 13,
   "id": "0a77a157",
   "metadata": {
    "execution": {
     "iopub.execute_input": "2022-02-28T14:17:46.539970Z",
     "iopub.status.busy": "2022-02-28T14:17:46.539043Z",
     "iopub.status.idle": "2022-02-28T14:17:46.547141Z",
     "shell.execute_reply": "2022-02-28T14:17:46.547570Z",
     "shell.execute_reply.started": "2022-02-28T14:06:19.640773Z"
    },
    "papermill": {
     "duration": 0.057097,
     "end_time": "2022-02-28T14:17:46.547760",
     "exception": false,
     "start_time": "2022-02-28T14:17:46.490663",
     "status": "completed"
    },
    "tags": []
   },
   "outputs": [],
   "source": [
    "x_data = train_df.iloc[:,:-1]"
   ]
  },
  {
   "cell_type": "markdown",
   "id": "57bb21a3",
   "metadata": {
    "papermill": {
     "duration": 0.039025,
     "end_time": "2022-02-28T14:17:46.626881",
     "exception": false,
     "start_time": "2022-02-28T14:17:46.587856",
     "status": "completed"
    },
    "tags": []
   },
   "source": [
    "## Selecting the required columns"
   ]
  },
  {
   "cell_type": "code",
   "execution_count": 14,
   "id": "c819747e",
   "metadata": {
    "execution": {
     "iopub.execute_input": "2022-02-28T14:17:46.708378Z",
     "iopub.status.busy": "2022-02-28T14:17:46.707543Z",
     "iopub.status.idle": "2022-02-28T14:17:46.709385Z",
     "shell.execute_reply": "2022-02-28T14:17:46.709840Z",
     "shell.execute_reply.started": "2022-02-28T14:06:19.667618Z"
    },
    "papermill": {
     "duration": 0.044866,
     "end_time": "2022-02-28T14:17:46.709966",
     "exception": false,
     "start_time": "2022-02-28T14:17:46.665100",
     "status": "completed"
    },
    "tags": []
   },
   "outputs": [],
   "source": [
    "x_data = x_data[['LotArea', 'OverallQual', 'OverallCond','BsmtFinType1','BsmtFinSF1','BsmtFinType2','BsmtFinSF2','1stFlrSF','2ndFlrSF', 'GrLivArea', 'MasVnrArea', 'YearBuilt', 'YearRemodAdd', 'TotalBsmtSF', 'FullBath','GarageArea']]"
   ]
  },
  {
   "cell_type": "markdown",
   "id": "5294de35",
   "metadata": {
    "execution": {
     "iopub.execute_input": "2022-02-28T14:09:07.445067Z",
     "iopub.status.busy": "2022-02-28T14:09:07.444544Z",
     "iopub.status.idle": "2022-02-28T14:09:07.448709Z",
     "shell.execute_reply": "2022-02-28T14:09:07.447893Z",
     "shell.execute_reply.started": "2022-02-28T14:09:07.445031Z"
    },
    "papermill": {
     "duration": 0.037155,
     "end_time": "2022-02-28T14:17:46.784890",
     "exception": false,
     "start_time": "2022-02-28T14:17:46.747735",
     "status": "completed"
    },
    "tags": []
   },
   "source": [
    "## Encoding the categorical features using one hot encoding"
   ]
  },
  {
   "cell_type": "code",
   "execution_count": 15,
   "id": "3b2f0f43",
   "metadata": {
    "execution": {
     "iopub.execute_input": "2022-02-28T14:17:46.866748Z",
     "iopub.status.busy": "2022-02-28T14:17:46.866202Z",
     "iopub.status.idle": "2022-02-28T14:17:46.923622Z",
     "shell.execute_reply": "2022-02-28T14:17:46.923119Z",
     "shell.execute_reply.started": "2022-02-28T14:06:19.675882Z"
    },
    "papermill": {
     "duration": 0.101049,
     "end_time": "2022-02-28T14:17:46.923745",
     "exception": false,
     "start_time": "2022-02-28T14:17:46.822696",
     "status": "completed"
    },
    "tags": []
   },
   "outputs": [],
   "source": [
    "x_data = pd.get_dummies(x_data)"
   ]
  },
  {
   "cell_type": "code",
   "execution_count": 16,
   "id": "ffd6bc25",
   "metadata": {
    "execution": {
     "iopub.execute_input": "2022-02-28T14:17:47.004779Z",
     "iopub.status.busy": "2022-02-28T14:17:47.003974Z",
     "iopub.status.idle": "2022-02-28T14:17:47.005944Z",
     "shell.execute_reply": "2022-02-28T14:17:47.006338Z",
     "shell.execute_reply.started": "2022-02-28T14:06:19.723061Z"
    },
    "papermill": {
     "duration": 0.044985,
     "end_time": "2022-02-28T14:17:47.006479",
     "exception": false,
     "start_time": "2022-02-28T14:17:46.961494",
     "status": "completed"
    },
    "tags": []
   },
   "outputs": [],
   "source": [
    "y_data = train_df.iloc[:,-1]"
   ]
  },
  {
   "cell_type": "markdown",
   "id": "0f846282",
   "metadata": {
    "papermill": {
     "duration": 0.037242,
     "end_time": "2022-02-28T14:17:47.081352",
     "exception": false,
     "start_time": "2022-02-28T14:17:47.044110",
     "status": "completed"
    },
    "tags": []
   },
   "source": [
    "## Model Training"
   ]
  },
  {
   "cell_type": "code",
   "execution_count": 17,
   "id": "88713427",
   "metadata": {
    "execution": {
     "iopub.execute_input": "2022-02-28T14:17:47.161920Z",
     "iopub.status.busy": "2022-02-28T14:17:47.161270Z",
     "iopub.status.idle": "2022-02-28T14:17:50.139413Z",
     "shell.execute_reply": "2022-02-28T14:17:50.138336Z",
     "shell.execute_reply.started": "2022-02-28T14:06:19.730754Z"
    },
    "papermill": {
     "duration": 3.020706,
     "end_time": "2022-02-28T14:17:50.139579",
     "exception": false,
     "start_time": "2022-02-28T14:17:47.118873",
     "status": "completed"
    },
    "tags": []
   },
   "outputs": [],
   "source": [
    "from cuml.model_selection import train_test_split\n",
    "x_train, x_val, y_train, y_val = train_test_split(x_data, y_data, train_size=0.8)"
   ]
  },
  {
   "cell_type": "code",
   "execution_count": 18,
   "id": "e63bf683",
   "metadata": {
    "execution": {
     "iopub.execute_input": "2022-02-28T14:17:50.222919Z",
     "iopub.status.busy": "2022-02-28T14:17:50.222210Z",
     "iopub.status.idle": "2022-02-28T14:17:50.224798Z",
     "shell.execute_reply": "2022-02-28T14:17:50.224336Z",
     "shell.execute_reply.started": "2022-02-28T14:06:19.753896Z"
    },
    "papermill": {
     "duration": 0.046703,
     "end_time": "2022-02-28T14:17:50.224910",
     "exception": false,
     "start_time": "2022-02-28T14:17:50.178207",
     "status": "completed"
    },
    "tags": []
   },
   "outputs": [],
   "source": [
    "from cuml.linear_model import LinearRegression\n",
    "lr_eig = LinearRegression(fit_intercept = True, normalize = False, algorithm = \"eig\")\n",
    "lr_svd = LinearRegression(fit_intercept = True, normalize = False, algorithm = \"svd\")\n",
    "lr_qr = LinearRegression(fit_intercept = True, normalize = False, algorithm = \"qr\")\n",
    "lr_svdqr = LinearRegression(fit_intercept = True, normalize = False, algorithm = \"svd-qr\")\n",
    "lr_svdjac = LinearRegression(fit_intercept = True, normalize = False, algorithm = \"svd-jacobi\")"
   ]
  },
  {
   "cell_type": "code",
   "execution_count": 19,
   "id": "c073e58f",
   "metadata": {
    "execution": {
     "iopub.execute_input": "2022-02-28T14:17:50.305171Z",
     "iopub.status.busy": "2022-02-28T14:17:50.304615Z",
     "iopub.status.idle": "2022-02-28T14:17:52.716239Z",
     "shell.execute_reply": "2022-02-28T14:17:52.715666Z",
     "shell.execute_reply.started": "2022-02-28T14:06:19.769809Z"
    },
    "papermill": {
     "duration": 2.454103,
     "end_time": "2022-02-28T14:17:52.716394",
     "exception": false,
     "start_time": "2022-02-28T14:17:50.262291",
     "status": "completed"
    },
    "tags": []
   },
   "outputs": [
    {
     "data": {
      "text/plain": [
       "LinearRegression()"
      ]
     },
     "execution_count": 19,
     "metadata": {},
     "output_type": "execute_result"
    }
   ],
   "source": [
    "lr_eig.fit(x_train, y_train)\n",
    "lr_svd.fit(x_train, y_train)\n",
    "lr_qr.fit(x_train, y_train)\n",
    "lr_svdqr.fit(x_train, y_train)\n",
    "lr_svdjac.fit(x_train, y_train)"
   ]
  },
  {
   "cell_type": "code",
   "execution_count": 20,
   "id": "eb58ec5b",
   "metadata": {
    "execution": {
     "iopub.execute_input": "2022-02-28T14:17:52.808352Z",
     "iopub.status.busy": "2022-02-28T14:17:52.807409Z",
     "iopub.status.idle": "2022-02-28T14:17:52.861339Z",
     "shell.execute_reply": "2022-02-28T14:17:52.860865Z",
     "shell.execute_reply.started": "2022-02-28T14:06:19.825400Z"
    },
    "papermill": {
     "duration": 0.102394,
     "end_time": "2022-02-28T14:17:52.861490",
     "exception": false,
     "start_time": "2022-02-28T14:17:52.759096",
     "status": "completed"
    },
    "tags": []
   },
   "outputs": [],
   "source": [
    "preds_eig = lr_eig.predict(x_val)\n",
    "preds_svd = lr_svd.predict(x_val)\n",
    "preds_qr = lr_qr.predict(x_val)\n",
    "preds_svdqr = lr_svdqr.predict(x_val)\n",
    "preds_svdjac = lr_svdjac.predict(x_val)"
   ]
  },
  {
   "cell_type": "code",
   "execution_count": 21,
   "id": "a866d8df",
   "metadata": {
    "execution": {
     "iopub.execute_input": "2022-02-28T14:17:52.955574Z",
     "iopub.status.busy": "2022-02-28T14:17:52.953791Z",
     "iopub.status.idle": "2022-02-28T14:17:52.956241Z",
     "shell.execute_reply": "2022-02-28T14:17:52.956685Z",
     "shell.execute_reply.started": "2022-02-28T14:06:19.878883Z"
    },
    "papermill": {
     "duration": 0.052085,
     "end_time": "2022-02-28T14:17:52.956848",
     "exception": false,
     "start_time": "2022-02-28T14:17:52.904763",
     "status": "completed"
    },
    "tags": []
   },
   "outputs": [],
   "source": [
    "preds_eig = preds_eig.astype(np.int64)\n",
    "preds_svd = preds_svd.astype(np.int64)\n",
    "preds_qr = preds_qr.astype(np.int64)\n",
    "preds_svdqr = preds_svdqr.astype(np.int64)\n",
    "preds_svdjac = preds_svdjac.astype(np.int64)"
   ]
  },
  {
   "cell_type": "code",
   "execution_count": 22,
   "id": "2d8f4d84",
   "metadata": {
    "execution": {
     "iopub.execute_input": "2022-02-28T14:17:53.046415Z",
     "iopub.status.busy": "2022-02-28T14:17:53.045402Z",
     "iopub.status.idle": "2022-02-28T14:17:53.047256Z",
     "shell.execute_reply": "2022-02-28T14:17:53.047719Z",
     "shell.execute_reply.started": "2022-02-28T14:06:19.887558Z"
    },
    "papermill": {
     "duration": 0.04916,
     "end_time": "2022-02-28T14:17:53.047848",
     "exception": false,
     "start_time": "2022-02-28T14:17:52.998688",
     "status": "completed"
    },
    "tags": []
   },
   "outputs": [],
   "source": [
    "algos = ['eig','svd','qr','svdqr','svdjacob']"
   ]
  },
  {
   "cell_type": "markdown",
   "id": "3199345a",
   "metadata": {
    "execution": {
     "iopub.execute_input": "2022-02-28T14:10:04.733454Z",
     "iopub.status.busy": "2022-02-28T14:10:04.732933Z",
     "iopub.status.idle": "2022-02-28T14:10:04.738108Z",
     "shell.execute_reply": "2022-02-28T14:10:04.736917Z",
     "shell.execute_reply.started": "2022-02-28T14:10:04.733414Z"
    },
    "papermill": {
     "duration": 0.041678,
     "end_time": "2022-02-28T14:17:53.132130",
     "exception": false,
     "start_time": "2022-02-28T14:17:53.090452",
     "status": "completed"
    },
    "tags": []
   },
   "source": [
    "## Model Evaluation"
   ]
  },
  {
   "cell_type": "code",
   "execution_count": 23,
   "id": "55910226",
   "metadata": {
    "execution": {
     "iopub.execute_input": "2022-02-28T14:17:53.224217Z",
     "iopub.status.busy": "2022-02-28T14:17:53.223276Z",
     "iopub.status.idle": "2022-02-28T14:17:54.526375Z",
     "shell.execute_reply": "2022-02-28T14:17:54.527006Z",
     "shell.execute_reply.started": "2022-02-28T14:06:19.897375Z"
    },
    "papermill": {
     "duration": 1.35283,
     "end_time": "2022-02-28T14:17:54.527206",
     "exception": false,
     "start_time": "2022-02-28T14:17:53.174376",
     "status": "completed"
    },
    "tags": []
   },
   "outputs": [
    {
     "name": "stdout",
     "output_type": "stream",
     "text": [
      "[22838.62328767 22838.63356164 22559.29794521 22838.63356164\n",
      " 22838.63356164]\n"
     ]
    }
   ],
   "source": [
    "from cuml.metrics.regression import mean_absolute_error\n",
    "mae = numpy.empty(shape=[5])\n",
    "mae[0]=(mean_absolute_error(y_val, preds_eig))\n",
    "mae[1]=(mean_absolute_error(y_val, preds_svd))\n",
    "mae[2]=(mean_absolute_error(y_val, preds_qr))\n",
    "mae[3]=(mean_absolute_error(y_val, preds_svdqr))\n",
    "mae[4]=(mean_absolute_error(y_val, preds_svdjac))\n",
    "print(mae)"
   ]
  },
  {
   "cell_type": "code",
   "execution_count": 24,
   "id": "31096b71",
   "metadata": {
    "execution": {
     "iopub.execute_input": "2022-02-28T14:17:54.613498Z",
     "iopub.status.busy": "2022-02-28T14:17:54.612960Z",
     "iopub.status.idle": "2022-02-28T14:17:54.777922Z",
     "shell.execute_reply": "2022-02-28T14:17:54.778444Z",
     "shell.execute_reply.started": "2022-02-28T14:06:19.912045Z"
    },
    "papermill": {
     "duration": 0.211799,
     "end_time": "2022-02-28T14:17:54.778591",
     "exception": false,
     "start_time": "2022-02-28T14:17:54.566792",
     "status": "completed"
    },
    "tags": []
   },
   "outputs": [
    {
     "data": {
      "image/png": "[encoded data removed]",
      "text/plain": [
       "<Figure size 432x288 with 1 Axes>"
      ]
     },
     "metadata": {
      "needs_background": "light"
     },
     "output_type": "display_data"
    }
   ],
   "source": [
    "import matplotlib.pyplot as plt\n",
    "plt.bar(numpy.array(algos),mae)\n",
    "plt.xlabel('Algorithms')\n",
    "plt.ylabel('Mean Absolute Error')\n",
    "plt.show()"
   ]
  },
  {
   "cell_type": "code",
   "execution_count": 25,
   "id": "6a4e9ed6",
   "metadata": {
    "execution": {
     "iopub.execute_input": "2022-02-28T14:17:54.865039Z",
     "iopub.status.busy": "2022-02-28T14:17:54.864300Z",
     "iopub.status.idle": "2022-02-28T14:17:55.106362Z",
     "shell.execute_reply": "2022-02-28T14:17:55.106818Z",
     "shell.execute_reply.started": "2022-02-28T14:06:20.056731Z"
    },
    "papermill": {
     "duration": 0.288744,
     "end_time": "2022-02-28T14:17:55.106966",
     "exception": false,
     "start_time": "2022-02-28T14:17:54.818222",
     "status": "completed"
    },
    "tags": []
   },
   "outputs": [
    {
     "name": "stdout",
     "output_type": "stream",
     "text": [
      "[1.17926927e+09 1.17926764e+09 1.16813083e+09 1.17926764e+09\n",
      " 1.17926764e+09]\n"
     ]
    }
   ],
   "source": [
    "from cuml.metrics.regression import mean_squared_error\n",
    "mse = numpy.empty(shape=[5])\n",
    "mse[0]=(mean_squared_error(y_val, preds_eig))\n",
    "mse[1]=(mean_squared_error(y_val, preds_svd))\n",
    "mse[2]=(mean_squared_error(y_val, preds_qr))\n",
    "mse[3]=(mean_squared_error(y_val, preds_svdqr))\n",
    "mse[4]=(mean_squared_error(y_val, preds_svdjac))\n",
    "print(mse)"
   ]
  },
  {
   "cell_type": "code",
   "execution_count": 26,
   "id": "ac829ee2",
   "metadata": {
    "execution": {
     "iopub.execute_input": "2022-02-28T14:17:55.343183Z",
     "iopub.status.busy": "2022-02-28T14:17:55.192235Z",
     "iopub.status.idle": "2022-02-28T14:17:55.481862Z",
     "shell.execute_reply": "2022-02-28T14:17:55.482975Z",
     "shell.execute_reply.started": "2022-02-28T14:06:20.072834Z"
    },
    "papermill": {
     "duration": 0.336191,
     "end_time": "2022-02-28T14:17:55.483214",
     "exception": false,
     "start_time": "2022-02-28T14:17:55.147023",
     "status": "completed"
    },
    "tags": []
   },
   "outputs": [
    {
     "data": {
      "image/png": "[encoded data removed]",
      "text/plain": [
       "<Figure size 432x288 with 1 Axes>"
      ]
     },
     "metadata": {
      "needs_background": "light"
     },
     "output_type": "display_data"
    }
   ],
   "source": [
    "import matplotlib.pyplot as plt\n",
    "plt.bar(numpy.array(algos),mse)\n",
    "plt.xlabel('Algorithms')\n",
    "plt.ylabel('Mean Squared Error')\n",
    "plt.show()"
   ]
  },
  {
   "cell_type": "code",
   "execution_count": 27,
   "id": "413f4ea7",
   "metadata": {
    "execution": {
     "iopub.execute_input": "2022-02-28T14:17:55.570185Z",
     "iopub.status.busy": "2022-02-28T14:17:55.569306Z",
     "iopub.status.idle": "2022-02-28T14:17:55.573904Z",
     "shell.execute_reply": "2022-02-28T14:17:55.573331Z",
     "shell.execute_reply.started": "2022-02-28T14:06:20.226148Z"
    },
    "papermill": {
     "duration": 0.049727,
     "end_time": "2022-02-28T14:17:55.574035",
     "exception": false,
     "start_time": "2022-02-28T14:17:55.524308",
     "status": "completed"
    },
    "tags": []
   },
   "outputs": [],
   "source": [
    "y_val = y_val.astype(np.float64)\n",
    "preds_eig = preds_eig.astype(np.float64)\n",
    "preds_svd = preds_svd.astype(np.float64)\n",
    "preds_qr = preds_qr.astype(np.float64)\n",
    "preds_svdqr = preds_svdqr.astype(np.float64)\n",
    "preds_svdjac = preds_svdjac.astype(np.float64)"
   ]
  },
  {
   "cell_type": "code",
   "execution_count": 28,
   "id": "b983d926",
   "metadata": {
    "execution": {
     "iopub.execute_input": "2022-02-28T14:17:55.668254Z",
     "iopub.status.busy": "2022-02-28T14:17:55.664282Z",
     "iopub.status.idle": "2022-02-28T14:17:55.671052Z",
     "shell.execute_reply": "2022-02-28T14:17:55.671481Z",
     "shell.execute_reply.started": "2022-02-28T14:06:20.237534Z"
    },
    "papermill": {
     "duration": 0.057079,
     "end_time": "2022-02-28T14:17:55.671616",
     "exception": false,
     "start_time": "2022-02-28T14:17:55.614537",
     "status": "completed"
    },
    "tags": []
   },
   "outputs": [
    {
     "name": "stdout",
     "output_type": "stream",
     "text": [
      "[0.82914538 0.82914562 0.83075914 0.82914562 0.82914562]\n"
     ]
    }
   ],
   "source": [
    "from cuml.metrics.regression import r2_score\n",
    "r2 = numpy.empty(shape=[5])\n",
    "r2[0]=(r2_score(y_val, preds_eig))\n",
    "r2[1]=(r2_score(y_val, preds_svd))\n",
    "r2[2]=(r2_score(y_val, preds_qr))\n",
    "r2[3]=(r2_score(y_val, preds_svdqr))\n",
    "r2[4]=(r2_score(y_val, preds_svdjac))\n",
    "print(r2)"
   ]
  },
  {
   "cell_type": "code",
   "execution_count": 29,
   "id": "56b50506",
   "metadata": {
    "execution": {
     "iopub.execute_input": "2022-02-28T14:17:55.769388Z",
     "iopub.status.busy": "2022-02-28T14:17:55.766422Z",
     "iopub.status.idle": "2022-02-28T14:17:55.921638Z",
     "shell.execute_reply": "2022-02-28T14:17:55.920962Z",
     "shell.execute_reply.started": "2022-02-28T14:06:20.249629Z"
    },
    "papermill": {
     "duration": 0.208643,
     "end_time": "2022-02-28T14:17:55.921762",
     "exception": false,
     "start_time": "2022-02-28T14:17:55.713119",
     "status": "completed"
    },
    "tags": []
   },
   "outputs": [
    {
     "data": {
      "image/png": "[encoded data removed]",
      "text/plain": [
       "<Figure size 432x288 with 1 Axes>"
      ]
     },
     "metadata": {
      "needs_background": "light"
     },
     "output_type": "display_data"
    }
   ],
   "source": [
    "import matplotlib.pyplot as plt\n",
    "plt.bar(numpy.array(algos),r2)\n",
    "plt.xlabel('Algorithms')\n",
    "plt.ylabel('r2 Score')\n",
    "plt.show()"
   ]
  },
  {
   "cell_type": "markdown",
   "id": "ea5cabcb",
   "metadata": {
    "papermill": {
     "duration": 0.041622,
     "end_time": "2022-02-28T14:17:56.005486",
     "exception": false,
     "start_time": "2022-02-28T14:17:55.963864",
     "status": "completed"
    },
    "tags": []
   },
   "source": [
    "## Submitting the Results to the Competition"
   ]
  },
  {
   "cell_type": "code",
   "execution_count": 30,
   "id": "70668c72",
   "metadata": {
    "execution": {
     "iopub.execute_input": "2022-02-28T14:17:56.097151Z",
     "iopub.status.busy": "2022-02-28T14:17:56.096023Z",
     "iopub.status.idle": "2022-02-28T14:17:56.097935Z",
     "shell.execute_reply": "2022-02-28T14:17:56.098333Z",
     "shell.execute_reply.started": "2022-02-28T14:06:20.415198Z"
    },
    "papermill": {
     "duration": 0.051286,
     "end_time": "2022-02-28T14:17:56.098479",
     "exception": false,
     "start_time": "2022-02-28T14:17:56.047193",
     "status": "completed"
    },
    "tags": []
   },
   "outputs": [],
   "source": [
    "test_df = test_df[['LotArea', 'OverallQual', 'OverallCond','BsmtFinType1','BsmtFinSF1','BsmtFinType2','BsmtFinSF2','1stFlrSF','2ndFlrSF', 'GrLivArea', 'MasVnrArea', 'YearBuilt', 'YearRemodAdd', 'TotalBsmtSF', '1stFlrSF', 'FullBath','GarageArea']]"
   ]
  },
  {
   "cell_type": "code",
   "execution_count": 31,
   "id": "864aac77",
   "metadata": {
    "execution": {
     "iopub.execute_input": "2022-02-28T14:17:56.187343Z",
     "iopub.status.busy": "2022-02-28T14:17:56.186552Z",
     "iopub.status.idle": "2022-02-28T14:17:56.225336Z",
     "shell.execute_reply": "2022-02-28T14:17:56.225799Z",
     "shell.execute_reply.started": "2022-02-28T14:06:20.425260Z"
    },
    "papermill": {
     "duration": 0.086156,
     "end_time": "2022-02-28T14:17:56.225947",
     "exception": false,
     "start_time": "2022-02-28T14:17:56.139791",
     "status": "completed"
    },
    "tags": []
   },
   "outputs": [],
   "source": [
    "test_df = pd.get_dummies(test_df)"
   ]
  },
  {
   "cell_type": "code",
   "execution_count": 32,
   "id": "ec9d66b3",
   "metadata": {
    "execution": {
     "iopub.execute_input": "2022-02-28T14:17:56.313748Z",
     "iopub.status.busy": "2022-02-28T14:17:56.313110Z",
     "iopub.status.idle": "2022-02-28T14:17:56.326553Z",
     "shell.execute_reply": "2022-02-28T14:17:56.326095Z",
     "shell.execute_reply.started": "2022-02-28T14:06:20.473643Z"
    },
    "papermill": {
     "duration": 0.058441,
     "end_time": "2022-02-28T14:17:56.326678",
     "exception": false,
     "start_time": "2022-02-28T14:17:56.268237",
     "status": "completed"
    },
    "tags": []
   },
   "outputs": [],
   "source": [
    "submission = pd.read_csv('/kaggle/input/house-prices-advanced-regression-techniques/sample_submission.csv')"
   ]
  },
  {
   "cell_type": "code",
   "execution_count": 33,
   "id": "807667d5",
   "metadata": {
    "execution": {
     "iopub.execute_input": "2022-02-28T14:17:56.412885Z",
     "iopub.status.busy": "2022-02-28T14:17:56.412081Z",
     "iopub.status.idle": "2022-02-28T14:17:56.429396Z",
     "shell.execute_reply": "2022-02-28T14:17:56.428965Z",
     "shell.execute_reply.started": "2022-02-28T14:06:20.485140Z"
    },
    "papermill": {
     "duration": 0.06098,
     "end_time": "2022-02-28T14:17:56.429543",
     "exception": false,
     "start_time": "2022-02-28T14:17:56.368563",
     "status": "completed"
    },
    "tags": []
   },
   "outputs": [
    {
     "data": {
      "text/plain": [
       "LinearRegression()"
      ]
     },
     "execution_count": 33,
     "metadata": {},
     "output_type": "execute_result"
    }
   ],
   "source": [
    "lr_final = LinearRegression(fit_intercept = True, normalize = False, algorithm = \"eig\")\n",
    "lr_final.fit(x_data, y_data)"
   ]
  },
  {
   "cell_type": "code",
   "execution_count": 34,
   "id": "3b89ee8e",
   "metadata": {
    "execution": {
     "iopub.execute_input": "2022-02-28T14:17:56.517725Z",
     "iopub.status.busy": "2022-02-28T14:17:56.516904Z",
     "iopub.status.idle": "2022-02-28T14:17:56.528377Z",
     "shell.execute_reply": "2022-02-28T14:17:56.527949Z",
     "shell.execute_reply.started": "2022-02-28T14:06:20.506360Z"
    },
    "papermill": {
     "duration": 0.057301,
     "end_time": "2022-02-28T14:17:56.528511",
     "exception": false,
     "start_time": "2022-02-28T14:17:56.471210",
     "status": "completed"
    },
    "tags": []
   },
   "outputs": [],
   "source": [
    "submission['SalePrice'] = lr_final.predict(test_df)"
   ]
  },
  {
   "cell_type": "code",
   "execution_count": 35,
   "id": "42544f41",
   "metadata": {
    "execution": {
     "iopub.execute_input": "2022-02-28T14:17:56.616240Z",
     "iopub.status.busy": "2022-02-28T14:17:56.615604Z",
     "iopub.status.idle": "2022-02-28T14:17:56.623146Z",
     "shell.execute_reply": "2022-02-28T14:17:56.622725Z",
     "shell.execute_reply.started": "2022-02-28T14:06:20.526329Z"
    },
    "papermill": {
     "duration": 0.05308,
     "end_time": "2022-02-28T14:17:56.623260",
     "exception": false,
     "start_time": "2022-02-28T14:17:56.570180",
     "status": "completed"
    },
    "tags": []
   },
   "outputs": [],
   "source": [
    "submission.to_csv(\"submission.csv\", index=False)"
   ]
  },
  {
   "cell_type": "code",
   "execution_count": null,
   "id": "ef1305fa",
   "metadata": {
    "papermill": {
     "duration": 0.04228,
     "end_time": "2022-02-28T14:17:56.707527",
     "exception": false,
     "start_time": "2022-02-28T14:17:56.665247",
     "status": "completed"
    },
    "tags": []
   },
   "outputs": [],
   "source": []
  },
  {
   "cell_type": "code",
   "execution_count": null,
   "id": "04fe9f17",
   "metadata": {
    "papermill": {
     "duration": 0.041763,
     "end_time": "2022-02-28T14:17:56.791053",
     "exception": false,
     "start_time": "2022-02-28T14:17:56.749290",
     "status": "completed"
    },
    "tags": []
   },
   "outputs": [],
   "source": []
  }
 ],
 "metadata": {
  "kernelspec": {
   "display_name": "Python 3",
   "language": "python",
   "name": "python3"
  },
  "language_info": {
   "codemirror_mode": {
    "name": "ipython",
    "version": 3
   },
   "file_extension": ".py",
   "mimetype": "text/x-python",
   "name": "python",
   "nbconvert_exporter": "python",
   "pygments_lexer": "ipython3",
   "version": "3.7.12"
  },
  "papermill": {
   "default_parameters": {},
   "duration": 26.953004,
   "end_time": "2022-02-28T14:17:58.144062",
   "environment_variables": {},
   "exception": null,
   "input_path": "__notebook__.ipynb",
   "output_path": "__notebook__.ipynb",
   "parameters": {},
   "start_time": "2022-02-28T14:17:31.191058",
   "version": "2.3.3"
  }
 },
 "nbformat": 4,
 "nbformat_minor": 5
}
